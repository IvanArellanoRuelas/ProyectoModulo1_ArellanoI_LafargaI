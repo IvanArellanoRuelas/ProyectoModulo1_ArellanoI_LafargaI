{
 "cells": [
  {
   "cell_type": "markdown",
   "metadata": {},
   "source": [
    "<img style=\"float: left; margin: 30px 15px 15px 15px;\" src=\"https://pngimage.net/wp-content/uploads/2018/06/logo-iteso-png-5.png\" width=\"300\" height=\"500\" /> \n",
    "    \n",
    "    \n",
    "### <font color='navy'> Simulación de procesos financieros. \n",
    "\n",
    "**Nombres:** Jesus Ivan Lafarga Lizarraga, Ivan Andres Arellano Ruelas\n",
    "\n",
    "**Fecha:** 13 de octubre del 2021.\n",
    "\n",
    "**Expediente** : IF708989, IF714383.\n",
    "**Profesor:** Oscar David Jaramillo Zuluaga.\n",
    "    \n",
    "**Link Github**: https://github.com/IvanArellanoRuelas/ProyectoModulo1_ArellanoI_LafargaI\n",
    "\n",
    "# Proyecto TEMA-2"
   ]
  },
  {
   "cell_type": "markdown",
   "metadata": {},
   "source": [
    "<img style=\"float: right; margin: 0px 0px 15px 15px;\" src=\"https://upload.wikimedia.org/wikipedia/commons/b/b6/Proyecto_en_construccion.jpg\" width=\"300px\" height=\"100px\" />\n",
    "\n",
    "\n",
    "# Proyecto Módulo 2- Guía.\n",
    "> Se especifican los componentes básicos que deberá tener cada proyecto. El proyecto debe ser un problema que utilice datos reales, ya sea de una empresa física real o de alguna página de internet que proporcione bases de datos confiables. Con la información obtenida, se pretende utilizar todas las herramientas vistas durante el curso para la correcta modelación y simulación del cierto problema con ciertas variables de interés."
   ]
  },
  {
   "cell_type": "markdown",
   "metadata": {},
   "source": [
    "___\n",
    "\n",
    "\n",
    "### 1.1 Valuación de Créditos.\n",
    ">La asignación de crédito y beneficios dentro de una institución bancaria es una tarea fundamental ya que de eso depende la lealtad de los clientes y que el cliente se sienta como con el banco por esto\n",
    "En este proyecto analizaremos varias variables que influyen en la decisión de asignación de crédito y categoría de tarjeta, que se le debe ofrecer al cliente para que el cliente se sienta cómodo con su tarjeta \n",
    "\n",
    "\n",
    "### 1.2 Objetivos.\n",
    "1. Definir el limite de crédito de la tarjeta de crédito del usuario de forma correcta\n",
    "2. Definir la categoría de tarjeta que se le asignara \n",
    "3. Predecir si el usuario usara o no mas del 50% de su limite de crédito\n",
    "4. Cuantos productos adicionales contratara el cliente\n",
    "\n",
    "> #### 1.1 Objetivo general.\n",
    "> Analiza en base de datos e información de una empresa el limite de crédito que tendrá un usuario en su tarjeta, así como su nivel de tarjeta de crédito, el porcentaje esperado de uso de crédito y el número de productos\n",
    "\n",
    "> #### 1.2 Objetivos específicos\n",
    "1. Con base en la información proporcionada por los usuarios y la información arrojada por el buro de crédito, es posible determinar el limite de crédito cuando un cliente solicita una tarjeta de crédito \n",
    "2. A su vez definir en base a los meses que tiene con nuestra institución, su saldo revolvente que mantiene en la tarjeta de crédito, sus meses de inactividad en el ultimo año y su total de transacciones la categoría de tarjeta de crédito que le vamos a asignar \n",
    "3. Predecir que el cliente maneje alrededor de un 50% (10% de rango)  de su crédito asignado, con base en el número de compras mensuales, su rango de sueldo, su educación,  sus años con el banco \n",
    "4. Para calcular (Predecir) el número de productos que va a tener aparte a parte de su tarjeta de crédito, en base a su edad, numero de dependientes, su situación sentimental y su rango de sueldo \n",
    "\n",
    "\n",
    "Referencia:\n",
    "- https://es.slideshare.net/rosbur/metodologia-objetivos-generales-y-especficos\n",
    "\n",
    "\n",
    "# 1.3 Definición del problema.\n",
    "> FALTA\n",
    "\n",
    "# 1.4 Nodos y variables que se decidieron simular y porqué\n",
    "> FALTA\n",
    "\n",
    "# 1.5 Definición de hipótesis y supuestos.\n",
    ">  Al analizar cada una de las variables, observamos y creemos que existe una fuerte correlación entre varias variables, que nos permitirá llegar al objetivo de manera optima.\n",
    "Un ejemplo de esto es la correlación que vemos entre las variables de rango de salario, su nivel de estudios y si tiene o no dependientes. \n",
    "También creemos que el número de transacciones de una persona esta relacionada con su edad, y su nivel de educación .\n",
    "\n",
    "# 1.6 Obtención de bases de datos\n",
    "> La base de datos de mas 10,000 usuarios de tarjetas de crédito, de un banco se obtuvo de la plataforma kaggle la cual tiene bases de datos de libre acceso, en la cual los usuarios pueden descargar la información para el manejo de datos. \n",
    "En la descripción sabemos que el banco ha tenido problemas, ya que no ha podido definir a que clientes darle una mejor atención, por lo cual es vital hacer un análisis para saber que categoría de servicio( Tarjeta de crédito) debe recibir cada usuario .\n",
    "\n",
    "# 1.7 Visualización de resultados de simulación.\n",
    "> FALTA\n",
    "\n",
    "### 1.6 Conclusiones.\n",
    "> Mucho cuidado, las conclusiones no son cualquier cosa. Se debe concluir respecto a los objetivos planteados de acuerdo a los resultados obtenidos.\n",
    "\n",
    "### 1.7 Referencias.\n",
    ">Credit Card customers. (2020, 19 noviembre). Kaggle. https://www.kaggle.com/sakshigoyal7/credit-card-customers\n"
   ]
  },
  {
   "cell_type": "code",
   "execution_count": null,
   "metadata": {},
   "outputs": [],
   "source": []
  },
  {
   "cell_type": "code",
   "execution_count": null,
   "metadata": {},
   "outputs": [],
   "source": []
  },
  {
   "cell_type": "code",
   "execution_count": null,
   "metadata": {},
   "outputs": [],
   "source": []
  },
  {
   "cell_type": "code",
   "execution_count": null,
   "metadata": {},
   "outputs": [],
   "source": []
  },
  {
   "cell_type": "code",
   "execution_count": null,
   "metadata": {},
   "outputs": [],
   "source": []
  },
  {
   "cell_type": "markdown",
   "metadata": {},
   "source": [
    "___\n",
    "## 2. Especificaciones adicionales.\n",
    "En el grupo deben haber mínimo dos integrantes y máximo tres integrantes. Para propósitos logísticos nada más, por favor enumérense como *integrante 1*, *integrante 2* e *integrante 3*.\n",
    "\n",
    "### 2.1 Notebook de jupyter. \n",
    "> Los anteriores numerales los deben desarrollar todos en un notebook de jupyter y llamarlo de la siguiente manera `ProyectoModulo1_ApellidoN1_ApellidoN2_ApellidoN3`, donde `ApellidoNi` hace referencia al apellido materno y la inicial del primer nombre del integrante `i`.\n",
    "\n",
    "### 2.2 Proyecto en `GitHub`.\n",
    "> El integrante 1 deberá crear un proyecto en `GitHub` llamado **proyecto_modulo1**, donde tendrán todos los archivos relacionados con el proyecto. Los demás integrantes deben hacer un *fork* del proyecto, seguir el proyecto principal con `GitKraken` y hacer al menos dos contribuciones con *pull request* (como se hizo en la tarea). En el proyecto, deben incluir el repositorio remoto del integrante 1.\n",
    "\n",
    "### 2.3 Presentación.\n",
    "> Recuerden que la nota del proyecto es mitad el trabajo, y mitad la presentación. Deben hacer una presentación ya sea en power point o utlizando un notebook de python para presentar el trabajo durante un horario de clase que se será posteriomente definido. La presentación, además de llevar todos los componentes básicos descritos en el entregable, debe llevar una tabla de contenido.\n",
    "> - Presentación: 10 minutos.\n",
    "> - Seguir estas recomendaciones: https://es.slideshare.net/MeireComputacion/power-point-pautas-para-una-buen-trabajo"
   ]
  },
  {
   "cell_type": "markdown",
   "metadata": {},
   "source": [
    "<script>\n",
    "  $(document).ready(function(){\n",
    "    $('div.prompt').hide();\n",
    "    $('div.back-to-top').hide();\n",
    "    $('nav#menubar').hide();\n",
    "    $('.breadcrumb').hide();\n",
    "    $('.hidden-print').hide();\n",
    "  });\n",
    "</script>\n",
    "\n",
    "<footer id=\"attribution\" style=\"float:right; color:#808080; background:#fff;\">\n",
    "Created with Jupyter by Esteban Jiménez Rodríguez.\n",
    "</footer>"
   ]
  }
 ],
 "metadata": {
  "kernelspec": {
   "display_name": "Python 3",
   "language": "python",
   "name": "python3"
  },
  "language_info": {
   "codemirror_mode": {
    "name": "ipython",
    "version": 3
   },
   "file_extension": ".py",
   "mimetype": "text/x-python",
   "name": "python",
   "nbconvert_exporter": "python",
   "pygments_lexer": "ipython3",
   "version": "3.8.3"
  }
 },
 "nbformat": 4,
 "nbformat_minor": 2
}
