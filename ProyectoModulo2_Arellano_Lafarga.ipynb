{
 "cells": [
  {
   "cell_type": "markdown",
   "metadata": {},
   "source": [
    "<img style=\"float: left; margin: 30px 15px 15px 15px;\" src=\"https://pngimage.net/wp-content/uploads/2018/06/logo-iteso-png-5.png\" width=\"300\" height=\"500\" /> \n",
    "    \n",
    "    \n",
    "### <font color='navy'> Simulación de procesos financieros. \n",
    "\n",
    "**Nombres:** Ivan Andres Arellano Ruelas, Jesus Ivan Lafarga Lizarraga\n",
    "\n",
    "**Fecha:** 13 de octubre del 2021.\n",
    "\n",
    "**Expediente** : IF708989, IF714383.\n",
    "**Profesor:** Oscar David Jaramillo Zuluaga.\n",
    "    \n",
    "**Link Github**: https://github.com/IvanArellanoRuelas/ProyectoModulo1_ArellanoI_LafargaI\n",
    "\n",
    "# Proyecto TEMA-2"
   ]
  },
  {
   "cell_type": "markdown",
   "metadata": {},
   "source": [
    "# Contenido:"
   ]
  },
  {
   "cell_type": "markdown",
   "metadata": {},
   "source": [
    "1. **Indroducción:** \n",
    "    * 1.1 Predicción de nivel de tarjeta de crédito \n",
    "    * 1.2 Objetivos\n",
    "    * 1.3 Definicón del problema \n",
    "    * 1.4 Nodos\n",
    "    * 1.5 Hipotesis y supuestos \n",
    "    * 1.6 obtención de bases de datos "
   ]
  },
  {
   "cell_type": "markdown",
   "metadata": {},
   "source": [
    "## **1. Introducción:**\n",
    "\n"
   ]
  },
  {
   "cell_type": "markdown",
   "metadata": {},
   "source": [
    "### 1.1 Predicción de nivel de tarjeta de crédito\n",
    "> En base a la información financiera de miles de personas, se determinará que nivel de tarjeta debe recibir esa persona, haciendo que cada una tenga el servicio que espera de una tarjeta de crédito. Esto es de gran utilidad ya que ayuda mucho a la relación que tiene el cliente con el banco, lo que se podría reflejar en que el usuario se mantenga como usuario muchos años, si se le asigna la tarjeta de crédito correcta "
   ]
  },
  {
   "cell_type": "markdown",
   "metadata": {},
   "source": [
    "### 1.2 Objetivos: \n",
    "\n",
    "> **Objetivo general:**\n",
    " * Obtener el nivel correctro de asignación de tarjeta de crédito de un cliente en base a su información financiera \n",
    "> **Objetivos especificos**\n",
    " * Simular de manera optima nuestros nodos y hacer una comparación contra un grupo de control de 1,000 usuarios reales \n",
    " * Determinar las distribucciones de nuestros nodos "
   ]
  },
  {
   "cell_type": "markdown",
   "metadata": {},
   "source": [
    "... \"Terminar de pasar todo a este notebook"
   ]
  },
  {
   "cell_type": "markdown",
   "metadata": {},
   "source": [
    "## 1.6  Obtención de bases de datos"
   ]
  },
  {
   "cell_type": "code",
   "execution_count": 52,
   "metadata": {},
   "outputs": [
    {
     "data": {
      "text/html": [
       "<div>\n",
       "<style scoped>\n",
       "    .dataframe tbody tr th:only-of-type {\n",
       "        vertical-align: middle;\n",
       "    }\n",
       "\n",
       "    .dataframe tbody tr th {\n",
       "        vertical-align: top;\n",
       "    }\n",
       "\n",
       "    .dataframe thead th {\n",
       "        text-align: right;\n",
       "    }\n",
       "</style>\n",
       "<table border=\"1\" class=\"dataframe\">\n",
       "  <thead>\n",
       "    <tr style=\"text-align: right;\">\n",
       "      <th></th>\n",
       "      <th>CLIENTNUM</th>\n",
       "      <th>Attrition_Flag</th>\n",
       "      <th>Customer_Age</th>\n",
       "      <th>Gender</th>\n",
       "      <th>Dependent_count</th>\n",
       "      <th>Education_Level</th>\n",
       "      <th>Marital_Status</th>\n",
       "      <th>Income_Category</th>\n",
       "      <th>Card_Category</th>\n",
       "      <th>Months_on_book</th>\n",
       "      <th>...</th>\n",
       "      <th>Months_Inactive_12_mon</th>\n",
       "      <th>Contacts_Count_12_mon</th>\n",
       "      <th>Credit_Limit</th>\n",
       "      <th>Total_Revolving_Bal</th>\n",
       "      <th>Avg_Open_To_Buy</th>\n",
       "      <th>Total_Amt_Chng_Q4_Q1</th>\n",
       "      <th>Total_Trans_Amt</th>\n",
       "      <th>Total_Trans_Ct</th>\n",
       "      <th>Total_Ct_Chng_Q4_Q1</th>\n",
       "      <th>Avg_Utilization_Ratio</th>\n",
       "    </tr>\n",
       "  </thead>\n",
       "  <tbody>\n",
       "    <tr>\n",
       "      <th>0</th>\n",
       "      <td>768805383</td>\n",
       "      <td>Existing Customer</td>\n",
       "      <td>45</td>\n",
       "      <td>M</td>\n",
       "      <td>3</td>\n",
       "      <td>High School</td>\n",
       "      <td>Married</td>\n",
       "      <td>$60K - $80K</td>\n",
       "      <td>Blue</td>\n",
       "      <td>39</td>\n",
       "      <td>...</td>\n",
       "      <td>1</td>\n",
       "      <td>3</td>\n",
       "      <td>12691.0</td>\n",
       "      <td>777</td>\n",
       "      <td>11914.0</td>\n",
       "      <td>1.335</td>\n",
       "      <td>1144</td>\n",
       "      <td>42</td>\n",
       "      <td>1.625</td>\n",
       "      <td>0.061</td>\n",
       "    </tr>\n",
       "    <tr>\n",
       "      <th>1</th>\n",
       "      <td>818770008</td>\n",
       "      <td>Existing Customer</td>\n",
       "      <td>49</td>\n",
       "      <td>F</td>\n",
       "      <td>5</td>\n",
       "      <td>Graduate</td>\n",
       "      <td>Single</td>\n",
       "      <td>Less than $40K</td>\n",
       "      <td>Blue</td>\n",
       "      <td>44</td>\n",
       "      <td>...</td>\n",
       "      <td>1</td>\n",
       "      <td>2</td>\n",
       "      <td>8256.0</td>\n",
       "      <td>864</td>\n",
       "      <td>7392.0</td>\n",
       "      <td>1.541</td>\n",
       "      <td>1291</td>\n",
       "      <td>33</td>\n",
       "      <td>3.714</td>\n",
       "      <td>0.105</td>\n",
       "    </tr>\n",
       "    <tr>\n",
       "      <th>2</th>\n",
       "      <td>713982108</td>\n",
       "      <td>Existing Customer</td>\n",
       "      <td>51</td>\n",
       "      <td>M</td>\n",
       "      <td>3</td>\n",
       "      <td>Graduate</td>\n",
       "      <td>Married</td>\n",
       "      <td>$80K - $120K</td>\n",
       "      <td>Blue</td>\n",
       "      <td>36</td>\n",
       "      <td>...</td>\n",
       "      <td>1</td>\n",
       "      <td>0</td>\n",
       "      <td>3418.0</td>\n",
       "      <td>0</td>\n",
       "      <td>3418.0</td>\n",
       "      <td>2.594</td>\n",
       "      <td>1887</td>\n",
       "      <td>20</td>\n",
       "      <td>2.333</td>\n",
       "      <td>0.000</td>\n",
       "    </tr>\n",
       "    <tr>\n",
       "      <th>3</th>\n",
       "      <td>769911858</td>\n",
       "      <td>Existing Customer</td>\n",
       "      <td>40</td>\n",
       "      <td>F</td>\n",
       "      <td>4</td>\n",
       "      <td>High School</td>\n",
       "      <td>Unknown</td>\n",
       "      <td>Less than $40K</td>\n",
       "      <td>Blue</td>\n",
       "      <td>34</td>\n",
       "      <td>...</td>\n",
       "      <td>4</td>\n",
       "      <td>1</td>\n",
       "      <td>3313.0</td>\n",
       "      <td>2517</td>\n",
       "      <td>796.0</td>\n",
       "      <td>1.405</td>\n",
       "      <td>1171</td>\n",
       "      <td>20</td>\n",
       "      <td>2.333</td>\n",
       "      <td>0.760</td>\n",
       "    </tr>\n",
       "    <tr>\n",
       "      <th>4</th>\n",
       "      <td>709106358</td>\n",
       "      <td>Existing Customer</td>\n",
       "      <td>40</td>\n",
       "      <td>M</td>\n",
       "      <td>3</td>\n",
       "      <td>Uneducated</td>\n",
       "      <td>Married</td>\n",
       "      <td>$60K - $80K</td>\n",
       "      <td>Blue</td>\n",
       "      <td>21</td>\n",
       "      <td>...</td>\n",
       "      <td>1</td>\n",
       "      <td>0</td>\n",
       "      <td>4716.0</td>\n",
       "      <td>0</td>\n",
       "      <td>4716.0</td>\n",
       "      <td>2.175</td>\n",
       "      <td>816</td>\n",
       "      <td>28</td>\n",
       "      <td>2.500</td>\n",
       "      <td>0.000</td>\n",
       "    </tr>\n",
       "    <tr>\n",
       "      <th>5</th>\n",
       "      <td>713061558</td>\n",
       "      <td>Existing Customer</td>\n",
       "      <td>44</td>\n",
       "      <td>M</td>\n",
       "      <td>2</td>\n",
       "      <td>Graduate</td>\n",
       "      <td>Married</td>\n",
       "      <td>$40K - $60K</td>\n",
       "      <td>Blue</td>\n",
       "      <td>36</td>\n",
       "      <td>...</td>\n",
       "      <td>1</td>\n",
       "      <td>2</td>\n",
       "      <td>4010.0</td>\n",
       "      <td>1247</td>\n",
       "      <td>2763.0</td>\n",
       "      <td>1.376</td>\n",
       "      <td>1088</td>\n",
       "      <td>24</td>\n",
       "      <td>0.846</td>\n",
       "      <td>0.311</td>\n",
       "    </tr>\n",
       "    <tr>\n",
       "      <th>6</th>\n",
       "      <td>810347208</td>\n",
       "      <td>Existing Customer</td>\n",
       "      <td>51</td>\n",
       "      <td>M</td>\n",
       "      <td>4</td>\n",
       "      <td>Unknown</td>\n",
       "      <td>Married</td>\n",
       "      <td>$120K +</td>\n",
       "      <td>Gold</td>\n",
       "      <td>46</td>\n",
       "      <td>...</td>\n",
       "      <td>1</td>\n",
       "      <td>3</td>\n",
       "      <td>34516.0</td>\n",
       "      <td>2264</td>\n",
       "      <td>32252.0</td>\n",
       "      <td>1.975</td>\n",
       "      <td>1330</td>\n",
       "      <td>31</td>\n",
       "      <td>0.722</td>\n",
       "      <td>0.066</td>\n",
       "    </tr>\n",
       "    <tr>\n",
       "      <th>7</th>\n",
       "      <td>818906208</td>\n",
       "      <td>Existing Customer</td>\n",
       "      <td>32</td>\n",
       "      <td>M</td>\n",
       "      <td>0</td>\n",
       "      <td>High School</td>\n",
       "      <td>Unknown</td>\n",
       "      <td>$60K - $80K</td>\n",
       "      <td>Silver</td>\n",
       "      <td>27</td>\n",
       "      <td>...</td>\n",
       "      <td>2</td>\n",
       "      <td>2</td>\n",
       "      <td>29081.0</td>\n",
       "      <td>1396</td>\n",
       "      <td>27685.0</td>\n",
       "      <td>2.204</td>\n",
       "      <td>1538</td>\n",
       "      <td>36</td>\n",
       "      <td>0.714</td>\n",
       "      <td>0.048</td>\n",
       "    </tr>\n",
       "    <tr>\n",
       "      <th>8</th>\n",
       "      <td>710930508</td>\n",
       "      <td>Existing Customer</td>\n",
       "      <td>37</td>\n",
       "      <td>M</td>\n",
       "      <td>3</td>\n",
       "      <td>Uneducated</td>\n",
       "      <td>Single</td>\n",
       "      <td>$60K - $80K</td>\n",
       "      <td>Blue</td>\n",
       "      <td>36</td>\n",
       "      <td>...</td>\n",
       "      <td>2</td>\n",
       "      <td>0</td>\n",
       "      <td>22352.0</td>\n",
       "      <td>2517</td>\n",
       "      <td>19835.0</td>\n",
       "      <td>3.355</td>\n",
       "      <td>1350</td>\n",
       "      <td>24</td>\n",
       "      <td>1.182</td>\n",
       "      <td>0.113</td>\n",
       "    </tr>\n",
       "    <tr>\n",
       "      <th>9</th>\n",
       "      <td>719661558</td>\n",
       "      <td>Existing Customer</td>\n",
       "      <td>48</td>\n",
       "      <td>M</td>\n",
       "      <td>2</td>\n",
       "      <td>Graduate</td>\n",
       "      <td>Single</td>\n",
       "      <td>$80K - $120K</td>\n",
       "      <td>Blue</td>\n",
       "      <td>36</td>\n",
       "      <td>...</td>\n",
       "      <td>3</td>\n",
       "      <td>3</td>\n",
       "      <td>11656.0</td>\n",
       "      <td>1677</td>\n",
       "      <td>9979.0</td>\n",
       "      <td>1.524</td>\n",
       "      <td>1441</td>\n",
       "      <td>32</td>\n",
       "      <td>0.882</td>\n",
       "      <td>0.144</td>\n",
       "    </tr>\n",
       "  </tbody>\n",
       "</table>\n",
       "<p>10 rows × 21 columns</p>\n",
       "</div>"
      ],
      "text/plain": [
       "   CLIENTNUM     Attrition_Flag  Customer_Age Gender  Dependent_count  \\\n",
       "0  768805383  Existing Customer            45      M                3   \n",
       "1  818770008  Existing Customer            49      F                5   \n",
       "2  713982108  Existing Customer            51      M                3   \n",
       "3  769911858  Existing Customer            40      F                4   \n",
       "4  709106358  Existing Customer            40      M                3   \n",
       "5  713061558  Existing Customer            44      M                2   \n",
       "6  810347208  Existing Customer            51      M                4   \n",
       "7  818906208  Existing Customer            32      M                0   \n",
       "8  710930508  Existing Customer            37      M                3   \n",
       "9  719661558  Existing Customer            48      M                2   \n",
       "\n",
       "  Education_Level Marital_Status Income_Category Card_Category  \\\n",
       "0     High School        Married     $60K - $80K          Blue   \n",
       "1        Graduate         Single  Less than $40K          Blue   \n",
       "2        Graduate        Married    $80K - $120K          Blue   \n",
       "3     High School        Unknown  Less than $40K          Blue   \n",
       "4      Uneducated        Married     $60K - $80K          Blue   \n",
       "5        Graduate        Married     $40K - $60K          Blue   \n",
       "6         Unknown        Married         $120K +          Gold   \n",
       "7     High School        Unknown     $60K - $80K        Silver   \n",
       "8      Uneducated         Single     $60K - $80K          Blue   \n",
       "9        Graduate         Single    $80K - $120K          Blue   \n",
       "\n",
       "   Months_on_book  ...  Months_Inactive_12_mon  Contacts_Count_12_mon  \\\n",
       "0              39  ...                       1                      3   \n",
       "1              44  ...                       1                      2   \n",
       "2              36  ...                       1                      0   \n",
       "3              34  ...                       4                      1   \n",
       "4              21  ...                       1                      0   \n",
       "5              36  ...                       1                      2   \n",
       "6              46  ...                       1                      3   \n",
       "7              27  ...                       2                      2   \n",
       "8              36  ...                       2                      0   \n",
       "9              36  ...                       3                      3   \n",
       "\n",
       "   Credit_Limit  Total_Revolving_Bal  Avg_Open_To_Buy  Total_Amt_Chng_Q4_Q1  \\\n",
       "0       12691.0                  777          11914.0                 1.335   \n",
       "1        8256.0                  864           7392.0                 1.541   \n",
       "2        3418.0                    0           3418.0                 2.594   \n",
       "3        3313.0                 2517            796.0                 1.405   \n",
       "4        4716.0                    0           4716.0                 2.175   \n",
       "5        4010.0                 1247           2763.0                 1.376   \n",
       "6       34516.0                 2264          32252.0                 1.975   \n",
       "7       29081.0                 1396          27685.0                 2.204   \n",
       "8       22352.0                 2517          19835.0                 3.355   \n",
       "9       11656.0                 1677           9979.0                 1.524   \n",
       "\n",
       "   Total_Trans_Amt  Total_Trans_Ct  Total_Ct_Chng_Q4_Q1  Avg_Utilization_Ratio  \n",
       "0             1144              42                1.625                  0.061  \n",
       "1             1291              33                3.714                  0.105  \n",
       "2             1887              20                2.333                  0.000  \n",
       "3             1171              20                2.333                  0.760  \n",
       "4              816              28                2.500                  0.000  \n",
       "5             1088              24                0.846                  0.311  \n",
       "6             1330              31                0.722                  0.066  \n",
       "7             1538              36                0.714                  0.048  \n",
       "8             1350              24                1.182                  0.113  \n",
       "9             1441              32                0.882                  0.144  \n",
       "\n",
       "[10 rows x 21 columns]"
      ]
     },
     "execution_count": 52,
     "metadata": {},
     "output_type": "execute_result"
    }
   ],
   "source": [
    "import matplotlib.pyplot as plt\n",
    "import numpy as np\n",
    "import pandas as pd\n",
    "from sklearn.neighbors import KernelDensity\n",
    "from scipy.stats import gaussian_kde\n",
    "from statsmodels.nonparametric.kde import KDEUnivariate\n",
    "from statsmodels.nonparametric.kernel_density import KDEMultivariate\n",
    "import scipy.stats as st\n",
    "import statsmodels.api as sm \n",
    "from sklearn.model_selection import GridSearchCV\n",
    "import warnings \n",
    "warnings.filterwarnings(\"ignore\")\n",
    "db = pd.read_csv('BankChurners.csv',skiprows=2)\n",
    "db.head(10)"
   ]
  },
  {
   "cell_type": "markdown",
   "metadata": {},
   "source": [
    "# Funciones en el código: \n"
   ]
  },
  {
   "cell_type": "code",
   "execution_count": 50,
   "metadata": {},
   "outputs": [],
   "source": [
    "# Funciones a utilizar en el proyecto\n",
    "\n",
    "def kde_sklearn(x, x_grid, bandwidth, **kwargs):\n",
    "    \"\"\"Kernel Density Estimation with Scikit-learn\"\"\"\n",
    "    kde_skl = KernelDensity(bandwidth=bandwidth, **kwargs)\n",
    "    kde_skl.fit(x[:, np.newaxis])\n",
    "    # score_samples() returns the log-likelihood of the samples\n",
    "    log_pdf = kde_skl.score_samples(x_grid[:, np.newaxis])\n",
    "    return np.exp(log_pdf)\n",
    "\n",
    "\n",
    "def generador_vad(proba_acum: 'Probabilidad acumulada', indices: 'Valores por generar', N: 'Aleatorios por generar'):\n",
    "    diccionario = {i: idx for i, idx in enumerate(indices)}\n",
    "    U = np.random.rand(N)\n",
    "    y = pd.Series([sum([1 for p in proba_acum if p < ui]) for ui in U]).map(diccionario)\n",
    "    return y\n",
    "\n",
    "\n",
    "def kde_sklearn_mod(x, bandwidth, **kwargs):\n",
    "    \"\"\"Kernel Density Estimation with Scikit-learn\"\"\"\n",
    "    kde_skl = KernelDensity(bandwidth=bandwidth, **kwargs)\n",
    "    kde_skl.fit(x[:, np.newaxis])\n",
    "    # score_samples() returns the log-likelihood of the samples\n",
    "    pdf = lambda x_grid: np.exp(kde_skl.score_samples(x_grid[:, np.newaxis])) if isinstance(x_grid, np.ndarray) else \\\n",
    "        np.exp(kde_skl.score_samples(np.array[x_grid])[:, np.newaxis])\n",
    "    return pdf\n",
    "\n",
    "\n",
    "def muestreo_est(B: 'Número de estratos'):\n",
    "    u= np.random.uniform(B) \n",
    "    i=np.arange(0,B) \n",
    "    v = (u+i)/B \n",
    "    return v \n",
    "\n",
    "\n",
    "\n",
    "# Función que hace las pruebas para ver una distribución que se ajuste mejor al nodo    \n",
    "def prueba_dist(nodo: \"Nodo\", bins: 'bins'):\n",
    "    '''\n",
    "    Esta función de devuelve que una gráfica en donde se ve como le quedan distintas distribuciones\n",
    "    arbitrarias al nodo que el usuario debe ingresar a estudiar, además del orden de menor a menor\n",
    "    de las distribuciones que se podrán usar más adelante.\n",
    "    '''\n",
    "    d_continuas = [d for d in dir(st) if isinstance(getattr(st, d), getattr(st, \"rv_continuous\"))]\n",
    "\n",
    "    y, x, _ = plt.hist(nodo, bins=bins, density=True)\n",
    "    x = x[1:]\n",
    "\n",
    "    error = pd.DataFrame(columns = [\"distribución\", \"error\"])\n",
    "    i = 0\n",
    "\n",
    "    for d in d_continuas[10:20]:\n",
    "        try:\n",
    "            params = getattr(st, d).fit(nodo)\n",
    "            y_hat = getattr(st, d)(*params).pdf(x)\n",
    "            error.loc[i, :] = [d, np.mean(np.abs((y - y_hat)/y))] #Error MAPE\n",
    "            plt.plot(x, y_hat, label = d)\n",
    "            i += 1\n",
    "        except:\n",
    "            pass\n",
    "    plt.legend()\n",
    "    plt.show()\n",
    "\n",
    "    error.set_index(\"distribución\", inplace=True)\n",
    "    print(error.sort_values(\"error\"))   \n",
    "    \n",
    "\n",
    "# Función que hace la prueba Q_Q y nos muestra la gráfica.    \n",
    "def q_q(nodo: \"Nodo a simular\", distr:\"Distribución a comparar\"):\n",
    "    '''\n",
    "    Esta función te arroja como se acomoda la distribución elegida (como entrada),\n",
    "    del nodo introducido.\n",
    "    '''\n",
    "    # Histograma de las variables creadas\n",
    "    divisiones = 20 # Cantidad de barras en el histograma\n",
    "    fig, ax = plt.subplots(2,1, figsize=(8,10))\n",
    "    fig.tight_layout(pad=3.0)\n",
    "\n",
    "    y, x, _ = ax[0].hist(nodo, divisiones, density=True, label='Histograma mediciones')\n",
    "\n",
    "    # Función de distribución de probabilidad la cual creemos que mis datos distribuyen \n",
    "    # RECORDAR: SÓLO FUNCIONA PARA DISTRIBUCIONES CONTINUAS\n",
    "    dist = distr\n",
    "    params = getattr(st, dist).fit(nodo)\n",
    "\n",
    "    # Graficar PDF de la distribución que queremos probar\n",
    "\n",
    "    # x = np.arange(measurements.min(), measurements.max(), .01)\n",
    "    y_hat = getattr(st, dist).pdf(x, *params)\n",
    "    ax[0].plot(x, y_hat,'r--', label='Distribución ajustada')\n",
    "    ax[0].set_ylabel('Probability')\n",
    "    ax[0].grid()\n",
    "\n",
    "    grap1 = sm.qqplot(nodo, dist=getattr(st, dist), line='q', fit=True, ax=ax[1])\n",
    "    ax[1].grid()\n",
    "    ax[1].set_title('Usando paquete stats') \n",
    "    \n",
    "def complementarios_1(N):\n",
    "    a = np.random.rand(int(N/2))\n",
    "    b = 1-a\n",
    "    return np.concatenate((a,b))\n",
    "    \n"
   ]
  },
  {
   "cell_type": "markdown",
   "metadata": {},
   "source": [
    "# Histogramas:"
   ]
  },
  {
   "cell_type": "code",
   "execution_count": 8,
   "metadata": {},
   "outputs": [
    {
     "data": {
      "image/png": "[encoded data removed]",
      "text/plain": [
       "<Figure size 432x288 with 1 Axes>"
      ]
     },
     "metadata": {
      "needs_background": "light"
     },
     "output_type": "display_data"
    },
    {
     "data": {
      "image/png": "[encoded data removed]",
      "text/plain": [
       "<Figure size 432x288 with 1 Axes>"
      ]
     },
     "metadata": {
      "needs_background": "light"
     },
     "output_type": "display_data"
    },
    {
     "data": {
      "image/png": "[encoded data removed]",
      "text/plain": [
       "<Figure size 432x288 with 1 Axes>"
      ]
     },
     "metadata": {
      "needs_background": "light"
     },
     "output_type": "display_data"
    }
   ],
   "source": [
    "nodos = ['Credit_Limit','Avg_Utilization_Ratio','Months_on_book']\n",
    "for i in range(3):\n",
    "    plt.hist(db[nodos[i]], bins=20, label= nodos[i])\n",
    "    plt.legend()\n",
    "    plt.xlabel('Numero de repeticiones')\n",
    "    plt.show()\n",
    "    "
   ]
  },
  {
   "cell_type": "markdown",
   "metadata": {},
   "source": [
    "Histograma cuarto nodo: "
   ]
  },
  {
   "cell_type": "code",
   "execution_count": 12,
   "metadata": {
    "scrolled": true
   },
   "outputs": [
    {
     "data": {
      "image/png": "[encoded data removed]",
      "text/plain": [
       "<Figure size 432x288 with 1 Axes>"
      ]
     },
     "metadata": {
      "needs_background": "light"
     },
     "output_type": "display_data"
    }
   ],
   "source": [
    "a = sum(db['Income_Category']=='Unknown')\n",
    "b = sum(db['Income_Category']=='Less than $40K')\n",
    "c = sum(db['Income_Category']=='$40K - $60K')\n",
    "d = sum(db['Income_Category']=='$60K - $80K')\n",
    "e = sum(db['Income_Category']=='$80K - $120K')\n",
    "df = pd.DataFrame({'lab':['Less than $40K', '$40K - $60K' ,'$60K - $80K','$80K - $120K' ], \n",
    "                   'val':[b, c, d, e]})\n",
    "\n",
    "\n",
    "\n",
    "df.plot.bar(x='lab', y='val',align='center',label = 'Ingreso anual')\n",
    "plt.title('Histograma de rango de ingresos')\n",
    "plt.show();"
   ]
  },
  {
   "cell_type": "markdown",
   "metadata": {},
   "source": [
    "Separamos los datos por cada nodo"
   ]
  },
  {
   "cell_type": "markdown",
   "metadata": {},
   "source": [
    "# Nodo 1: \n",
    "Limite de crédito: "
   ]
  },
  {
   "cell_type": "code",
   "execution_count": 27,
   "metadata": {},
   "outputs": [],
   "source": [
    "N_1 = np.array(db.Credit_Limit)"
   ]
  },
  {
   "cell_type": "code",
   "execution_count": 47,
   "metadata": {},
   "outputs": [
    {
     "data": {
      "image/png": "[encoded data removed]",
      "text/plain": [
       "<Figure size 432x288 with 1 Axes>"
      ]
     },
     "metadata": {
      "needs_background": "light"
     },
     "output_type": "display_data"
    }
   ],
   "source": [
    "plt.hist(N_1,bins=100)\n",
    "plt.xlabel('Limite de crédito')\n",
    "plt.ylabel('Num de clientes')\n",
    "plt.show()"
   ]
  },
  {
   "cell_type": "code",
   "execution_count": 48,
   "metadata": {},
   "outputs": [
    {
     "data": {
      "image/png": "[encoded data removed]",
      "text/plain": [
       "<Figure size 432x288 with 1 Axes>"
      ]
     },
     "metadata": {
      "needs_background": "light"
     },
     "output_type": "display_data"
    }
   ],
   "source": [
    "plt.boxplot(N_1, vert=False)\n",
    "plt.xlabel('Limite de crédito');"
   ]
  },
  {
   "cell_type": "code",
   "execution_count": 53,
   "metadata": {},
   "outputs": [
    {
     "data": {
      "image/png": "[encoded data removed]",
      "text/plain": [
       "<Figure size 432x288 with 1 Axes>"
      ]
     },
     "metadata": {
      "needs_background": "light"
     },
     "output_type": "display_data"
    },
    {
     "name": "stdout",
     "output_type": "stream",
     "text": [
      "                 error\n",
      "distribución          \n",
      "erlang        0.208899\n",
      "exponnorm     0.332893\n",
      "expon         0.333547\n",
      "crystalball   0.371112\n",
      "exponpow      0.483841\n",
      "dgamma        0.535668\n",
      "chi            0.57382\n",
      "dweibull      0.575099\n",
      "chi2                 1\n",
      "cosine         1.08467\n"
     ]
    }
   ],
   "source": [
    "prueba_dist(N_1,15)"
   ]
  },
  {
   "cell_type": "code",
   "execution_count": 54,
   "metadata": {},
   "outputs": [
    {
     "data": {
      "image/png": "[encoded data removed]",
      "text/plain": [
       "<Figure size 576x720 with 2 Axes>"
      ]
     },
     "metadata": {
      "needs_background": "light"
     },
     "output_type": "display_data"
    }
   ],
   "source": [
    "q_q(N_1,'exponnorm')"
   ]
  },
  {
   "cell_type": "code",
   "execution_count": 80,
   "metadata": {},
   "outputs": [
    {
     "name": "stdout",
     "output_type": "stream",
     "text": [
      "{'bandwidth': 15.517241379310345}\n"
     ]
    }
   ],
   "source": [
    "grid = GridSearchCV(KernelDensity(),\n",
    "                    {'bandwidth': np.linspace(2, 100, 30)},\n",
    "                    cv=20) # 20-fold cross-validation\n",
    "grid.fit(N_1[:, None])\n",
    "print(grid.best_params_)"
   ]
  },
  {
   "cell_type": "code",
   "execution_count": 81,
   "metadata": {},
   "outputs": [
    {
     "data": {
      "text/plain": [
       "<matplotlib.legend.Legend at 0x17cf8c1a5e0>"
      ]
     },
     "execution_count": 81,
     "metadata": {},
     "output_type": "execute_result"
    },
    {
     "data": {
      "image/png": "[encoded data removed]",
      "text/plain": [
       "<Figure size 432x288 with 1 Axes>"
      ]
     },
     "metadata": {
      "needs_background": "light"
     },
     "output_type": "display_data"
    }
   ],
   "source": [
    "fig, ax = plt.subplots()\n",
    "for bandwidth in [2,10,20,  15.517241379310345]:\n",
    "    ax.plot(np.linspace(0,35000,15), kde_sklearn(N_1, np.linspace(0,35000,15), bandwidth=bandwidth),\n",
    "            label='bw={0}'.format(bandwidth), linewidth=3, alpha=0.7)\n",
    "ax.hist(N_1, 15, fc='gray', histtype='stepfilled', alpha=0.3, density=True)\n",
    "ax.legend(loc='upper left')"
   ]
  },
  {
   "cell_type": "markdown",
   "metadata": {},
   "source": [
    "# Monte carlo "
   ]
  },
  {
   "cell_type": "code",
   "execution_count": 96,
   "metadata": {},
   "outputs": [
    {
     "data": {
      "image/png": "[encoded data removed]",
      "text/plain": [
       "<Figure size 432x288 with 1 Axes>"
      ]
     },
     "metadata": {
      "needs_background": "light"
     },
     "output_type": "display_data"
    },
    {
     "name": "stdout",
     "output_type": "stream",
     "text": [
      "media mu =6580.592740, desviación estándar muestral =7566.391590\n",
      "8631.953698034955 9088.327899308213\n"
     ]
    }
   ],
   "source": [
    "\n",
    "# Reducción de varianza y Montecarlo\n",
    "N=10000\n",
    "\n",
    "f_1=kde_sklearn_mod(N_1,  15.517241379310345)\n",
    "proba = f_1(np.arange(0,35000,.4))\n",
    "f_acum = proba.cumsum()\n",
    "\n",
    "# Reducción con método estratificado\n",
    "u = muestreo_est(N)\n",
    "funcion2 = lambda u: (generador_vad(f_acum, N_1, N))\n",
    "o=funcion2(u).values\n",
    "\n",
    "# Reducción por complementarios\n",
    "\n",
    "complements=complementarios_1(N)\n",
    "funcion2_1 = lambda u: (generador_vad(f_acum, N_1, N))\n",
    "o_2=funcion2(u).values\n",
    "\n",
    "J = 100  # Cantidad de particiones del histograma\n",
    "\n",
    "y, x, _ = plt.hist(o, J, density=True)\n",
    "plt.show()\n",
    "\n",
    "# Se obvia el último valor de x para obtener exactamente J muestras de x\n",
    "x = x[:-1] \n",
    "\n",
    "# Media y desviación estándar muestral\n",
    "mu = np.mean(o)\n",
    "sigma = np.std(o)\n",
    "print('media mu =%f, desviación estándar muestral =%f'%(mu,sigma))\n",
    "print(N_1.mean(), N_1.std())"
   ]
  },
  {
   "cell_type": "code",
   "execution_count": 84,
   "metadata": {},
   "outputs": [
    {
     "data": {
      "image/png": "[encoded data removed]",
      "text/plain": [
       "<Figure size 432x288 with 1 Axes>"
      ]
     },
     "metadata": {
      "needs_background": "light"
     },
     "output_type": "display_data"
    }
   ],
   "source": [
    "\n",
    "plt.hist(o, bins=100, density = True, color = 'orange',label='Histograma')\n",
    "plt.plot(np.arange(0,35000,10),f_1(np.arange(0,35000,10)),label='Función de distribución')\n",
    "plt.legend()\n",
    "plt.show()"
   ]
  },
  {
   "cell_type": "code",
   "execution_count": 85,
   "metadata": {},
   "outputs": [
    {
     "data": {
      "text/plain": [
       "(6595.51719, 6587.269690000001, 8631.953698034955)"
      ]
     },
     "execution_count": 85,
     "metadata": {},
     "output_type": "execute_result"
    }
   ],
   "source": [
    "o_2.mean(),o.mean(), N_1.mean()"
   ]
  },
  {
   "cell_type": "code",
   "execution_count": null,
   "metadata": {},
   "outputs": [],
   "source": []
  },
  {
   "cell_type": "code",
   "execution_count": 90,
   "metadata": {},
   "outputs": [
    {
     "name": "stdout",
     "output_type": "stream",
     "text": [
      "La prueba de hipótesis arroja como resultado\n",
      " Ttest_1sampResult(statistic=0.010559560959662642, pvalue=0.9915750539360884)\n",
      "Cálculo del estadístico de prueba teórico= 0.010560082355093632\n",
      "Región de rechazo = (t<-0.8352082246194401) U (t>0.8352082246194401)\n"
     ]
    }
   ],
   "source": [
    "# Otra prueba de hipótesis, con la media simulando a que es 83\n",
    "\n",
    "media = N_1.mean()\n",
    "sd = N_1.std()\n",
    "N = len(N_1)\n",
    "\n",
    "# Nivel de confianza\n",
    "confianza = 0.95\n",
    "\n",
    "# Datos reales\n",
    "X = N_1\n",
    "\n",
    "# Hipótesis nula\n",
    "media2 = 8631\n",
    "\n",
    "# Realizamos la prueba de hipótesis para H0= mu=media2\n",
    "ho = st.ttest_1samp(X, media2)\n",
    "print('La prueba de hipótesis arroja como resultado\\n',ho)\n",
    "\n",
    "# Calculamos el estadístico normalizado\n",
    "t = (np.mean(X) - media2)/(np.std(X) / np.sqrt(N))\n",
    "print('Cálculo del estadístico de prueba teórico=', t)\n",
    "\n",
    "# Cálculo de la región de rechazo\n",
    "confianza_ph = 0.05\n",
    "cuantil = st.t(N-1).cdf(1-confianza_ph/2)\n",
    "print(f'Región de rechazo = (t<{-cuantil}) U (t>{cuantil})')"
   ]
  },
  {
   "cell_type": "code",
   "execution_count": null,
   "metadata": {},
   "outputs": [],
   "source": []
  },
  {
   "cell_type": "code",
   "execution_count": 93,
   "metadata": {},
   "outputs": [
    {
     "name": "stdout",
     "output_type": "stream",
     "text": [
      "Con una confianza de 0.95 la media estará en el intervalo t,\n",
      " (8454.916294502338, 8808.991101567572)\n",
      "Media calculada 6587.269690000001\n"
     ]
    },
    {
     "data": {
      "text/plain": [
       "8631.953698034955"
      ]
     },
     "execution_count": 93,
     "metadata": {},
     "output_type": "execute_result"
    }
   ],
   "source": [
    "# Nivel de confianza, y su intérvalo.\n",
    "\n",
    "# Parámetros de los datos reales\n",
    "confianza = .95\n",
    "media = N_1.mean()\n",
    "sd = N_1.std()\n",
    "\n",
    "# Intervalo de confianza usando t-student\n",
    "i1 = st.t.interval(confianza, len(N_1)-1, loc=np.mean(N_1), scale=st.sem(N_1))\n",
    "\n",
    "print('Con una confianza de %2.2f la media estará en el intervalo t,\\n %s' %(confianza,i1))\n",
    "print('Media calculada' ,o.mean())\n",
    "\n",
    "np.mean(N_1)"
   ]
  }
 ],
 "metadata": {
  "kernelspec": {
   "display_name": "Python 3",
   "language": "python",
   "name": "python3"
  },
  "language_info": {
   "codemirror_mode": {
    "name": "ipython",
    "version": 3
   },
   "file_extension": ".py",
   "mimetype": "text/x-python",
   "name": "python",
   "nbconvert_exporter": "python",
   "pygments_lexer": "ipython3",
   "version": "3.8.3"
  }
 },
 "nbformat": 4,
 "nbformat_minor": 4
}
